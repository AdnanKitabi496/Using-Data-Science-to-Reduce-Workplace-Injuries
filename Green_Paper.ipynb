{
 "cells": [
  {
   "cell_type": "code",
   "execution_count": 1,
   "metadata": {
    "id": "bvGaOVlrKjJg"
   },
   "outputs": [
    {
     "name": "stderr",
     "output_type": "stream",
     "text": [
      "[nltk_data] Downloading package stopwords to\n",
      "[nltk_data]     C:\\Users\\91709\\AppData\\Roaming\\nltk_data...\n",
      "[nltk_data]   Package stopwords is already up-to-date!\n",
      "[nltk_data] Downloading package wordnet to\n",
      "[nltk_data]     C:\\Users\\91709\\AppData\\Roaming\\nltk_data...\n",
      "[nltk_data]   Package wordnet is already up-to-date!\n"
     ]
    }
   ],
   "source": [
    "import pandas as pd\n",
    "from pprint import pprint\n",
    "\n",
    "import os, re, warnings\n",
    "warnings.filterwarnings('ignore')  # Let's not pay heed to them right now\n",
    "\n",
    "\n",
    "# Enable logging for gensim - optional\n",
    "import logging\n",
    "logging.basicConfig(format='%(asctime)s : %(levelname)s : %(message)s', level=logging.ERROR)\n",
    "\n",
    "# Gensim\n",
    "import gensim\n",
    "from gensim import corpora, models\n",
    "from gensim.models import CoherenceModel, LdaModel, LsiModel, HdpModel\n",
    "from gensim.models.wrappers import LdaMallet\n",
    "from gensim.corpora import Dictionary\n",
    "\n",
    "# spacy for lemmatization\n",
    "import spacy\n",
    "#python -m spacy download en_core_web_sm  -- run the command in prompt to load the sapacy model\n",
    "nlp = spacy.load(\"en_core_web_sm\")\n",
    "# NLTK Stop words\n",
    "from nltk.corpus import stopwords\n",
    "# Libraries for text preprocessing\n",
    "import nltk\n",
    "nltk.download('stopwords')\n",
    "stop_words = stopwords.words('english')\n",
    "from nltk.tokenize import RegexpTokenizer\n",
    "#nltk.download('wordnet') \n",
    "from nltk.stem.wordnet import WordNetLemmatizer\n",
    "from gensim.utils import simple_preprocess\n",
    "from gensim.parsing.preprocessing import STOPWORDS\n",
    "from nltk.stem import SnowballStemmer\n",
    "from nltk.stem.porter import *\n",
    "nltk.download('wordnet')\n",
    "from sklearn.feature_extraction.text import TfidfVectorizer\n",
    "from sklearn.cluster import KMeans\n",
    "from sklearn.metrics import adjusted_rand_score"
   ]
  },
  {
   "cell_type": "code",
   "execution_count": 2,
   "metadata": {
    "id": "AKjoxqw6KjJn"
   },
   "outputs": [],
   "source": [
    "# NLTK Stop words\n",
    "stop_words.extend([\"would\", \"could\", \"use\", \"also\", \"make\", \"get\", \"look\"])"
   ]
  },
  {
   "cell_type": "code",
   "execution_count": 3,
   "metadata": {
    "id": "0nRM6AgmKjJo"
   },
   "outputs": [],
   "source": [
    "#Load Data and convert accordingly to do the analysis\n",
    "df = pd.read_excel(r'Mondelez_Cleaned.xlsx')\n",
    "df = df.loc[df['CauseGroup'] == 'Ergonomic']\n",
    "data_text = df[['EventDescription']]\n",
    "data_text['index'] = data_text.index\n",
    "documents = data_text\n",
    "df['EventDescription']=df['EventDescription'].astype('str')"
   ]
  },
  {
   "cell_type": "code",
   "execution_count": 4,
   "metadata": {
    "id": "h55QEwFuKjJq",
    "outputId": "746b6040-1e5b-482a-cc55-e53175066d84"
   },
   "outputs": [
    {
     "name": "stdout",
     "output_type": "stream",
     "text": [
      "['MOVING EMPTY TRAY, FELT SNAP, CAUGHT SELF FROM FALLING LEFT CALF STRAIN']\n"
     ]
    }
   ],
   "source": [
    "#Pre-processing\n",
    "# Convert to list\n",
    "data = df.EventDescription.values.tolist()\n",
    "data\n",
    "\n",
    "# Remove Emails\n",
    "data = [re.sub('\\S*@\\S*\\s?', '', sent) for sent in data]\n",
    "\n",
    "# Remove new line characters\n",
    "data = [re.sub('\\s+', ' ', sent) for sent in data]\n",
    "\n",
    "pprint(data[:1])"
   ]
  },
  {
   "cell_type": "markdown",
   "metadata": {
    "id": "-3zEExzmKjJq"
   },
   "source": [
    "### Tokenize words and Clean-up text"
   ]
  },
  {
   "cell_type": "code",
   "execution_count": 5,
   "metadata": {
    "id": "paA7s1TuKjJs",
    "outputId": "f4a7e7c6-1fb4-4ff8-d0b5-70f345eed25a"
   },
   "outputs": [],
   "source": [
    "#set deacc=True to remove the punctuations.\n",
    "\n",
    "def sent_to_words(sentences):\n",
    "    for sentence in sentences:\n",
    "        yield(gensim.utils.simple_preprocess(str(sentence), deacc=True))  # deacc=True removes punctuations\n",
    "\n",
    "data_words = list(sent_to_words(data))\n",
    "\n",
    "stemmer= SnowballStemmer('english')\n",
    "def lemmatize_stemming(text):\n",
    "    return stemmer.stem(WordNetLemmatizer().lemmatize(text, pos='v'))\n",
    "def preprocess(text):\n",
    "    result = []\n",
    "    for token in gensim.utils.simple_preprocess(text):\n",
    "        if token not in gensim.parsing.preprocessing.STOPWORDS and len(token) > 3:\n",
    "            result.append(lemmatize_stemming(token))\n",
    "    return result\n",
    "processed_docs = documents['EventDescription'].map(preprocess)\n"
   ]
  },
  {
   "cell_type": "markdown",
   "metadata": {
    "id": "7PvieUz3KjJs"
   },
   "source": [
    "### Build the bigram and trigram models"
   ]
  },
  {
   "cell_type": "code",
   "execution_count": 6,
   "metadata": {},
   "outputs": [],
   "source": [
    "bigram = gensim.models.Phrases(processed_docs, min_count=1, threshold=2, delimiter=b' ') # higher threshold fewer phrases.\n",
    "trigram = gensim.models.Phrases(bigram[processed_docs], threshold=1, delimiter=b' ')  \n",
    "\n",
    "# Faster way to get a sentence clubbed as a trigram/bigram\n",
    "bigram_mod = gensim.models.phrases.Phraser(bigram)\n",
    "trigram_mod = gensim.models.phrases.Phraser(trigram)"
   ]
  },
  {
   "cell_type": "code",
   "execution_count": 7,
   "metadata": {
    "id": "6sF6HaknKjJu"
   },
   "outputs": [],
   "source": [
    "# Define functions for stopwords, bigrams, trigrams and lemmatization\n",
    "def remove_stopwords(texts):\n",
    "    return [[word for word in simple_preprocess(str(doc)) if word not in stop_words] for doc in texts]\n",
    "\n",
    "def make_bigrams(texts):\n",
    "    return [bigram_mod[doc] for doc in texts]\n",
    "\n",
    "def make_trigrams(texts):\n",
    "    return [trigram_mod[bigram_mod[doc]] for doc in texts]\n",
    "\n",
    "def lemmatization(texts, allowed_postags=['NOUN', 'ADJ', 'VERB', 'ADV']):\n",
    "    \"\"\"https://spacy.io/api/annotation\"\"\"\n",
    "    texts_out = []\n",
    "    for sent in texts:\n",
    "        doc = nlp(\" \".join(sent)) \n",
    "        texts_out.append([token.lemma_ for token in doc if token.pos_ in allowed_postags])\n",
    "    return texts_out"
   ]
  },
  {
   "cell_type": "code",
   "execution_count": 8,
   "metadata": {
    "id": "VQZ0ex0mKjJu",
    "outputId": "276ae37f-834e-403a-c421-b51e80d92ed9"
   },
   "outputs": [],
   "source": [
    "# Remove Stop Words\n",
    "data_words_nostops = remove_stopwords(processed_docs)\n",
    "\n",
    "nlp = spacy.load('en_core_web_sm', disable=['parser', 'ner'])\n",
    "\n",
    "# Do lemmatization keeping only noun, adj, vb, adv\n",
    "data_lemmatized = lemmatization(data_words_nostops, allowed_postags=['NOUN', 'ADJ', 'VERB', 'ADV'])\n",
    "\n",
    "# Form Bigrams\n",
    "data_words_bigrams = make_bigrams(data_lemmatized)\n",
    "\n",
    "# Form Bigrams\n",
    "data_words_trigrams = make_trigrams(data_lemmatized)\n"
   ]
  },
  {
   "cell_type": "code",
   "execution_count": 9,
   "metadata": {},
   "outputs": [],
   "source": [
    "new_bigram = []\n",
    "new_trigram = []\n",
    "for sent in data_words_bigrams:\n",
    "    bigrams_ = [b for b in bigram[sent] if b.count(' ') == 1]\n",
    "    new_bigram.append(bigrams_)\n",
    "for sent in data_words_trigrams:\n",
    "    trigrams_ = [b for b in bigram[sent] if b.count(' ') == 2]\n",
    "    new_trigram.append(trigrams_)"
   ]
  },
  {
   "cell_type": "markdown",
   "metadata": {
    "id": "2tgteAvBKjJv"
   },
   "source": [
    "### Create dictionary & corpus\n",
    "* bag of words dictionary - where the key is the word and value is the number of times that word occurs in the entire corpus."
   ]
  },
  {
   "cell_type": "code",
   "execution_count": 10,
   "metadata": {},
   "outputs": [],
   "source": [
    "# Create Dictionary - each word given an id\n",
    "id2word = corpora.Dictionary(data_lemmatized)\n",
    "# Create Corpus\n",
    "texts = data_lemmatized\n",
    "\n",
    "# Term Document Frequency - for each row, convert the words into a \"bow\" format\n",
    "corpus = [id2word.doc2bow(text) for text in texts]\n",
    "\n",
    "# id2word converted to a more interpretable version\n",
    "[[(id2word[id], freq) for id, freq in cp] for cp in corpus[:2]]\n",
    "\n",
    "# Build LDA model\n",
    "lda_model = gensim.models.ldamodel.LdaModel(corpus=corpus,\n",
    "                                           id2word=id2word,\n",
    "                                           num_topics=3, \n",
    "                                           random_state=100,\n",
    "                                           update_every=1,\n",
    "                                           chunksize=100,\n",
    "                                           passes=10,\n",
    "                                           alpha='auto',\n",
    "                                           per_word_topics=True)"
   ]
  },
  {
   "cell_type": "code",
   "execution_count": 11,
   "metadata": {},
   "outputs": [],
   "source": [
    "lis = lda_model.print_topics()"
   ]
  },
  {
   "cell_type": "code",
   "execution_count": 12,
   "metadata": {},
   "outputs": [],
   "source": [
    "#getting data ready for flat file to be read by Power BI\n",
    "final = []\n",
    "for ind, li in enumerate(lis):\n",
    "    if li:\n",
    "        spt1 = str(li[1]).split(\"+\")\n",
    "        for idx, sp in enumerate(spt1):\n",
    "            if sp:\n",
    "                sp = sp.split(\"*\")\n",
    "                final.append([ind, *sp])\n",
    "df = pd.DataFrame(final)\n",
    "cols = [\"topic\", \"weights\", \"word\"]\n",
    "df.columns = cols\n",
    "df['word']= df['word'].str.replace('\"', \"\")\n",
    "\n",
    "df['weights'] = df['weights'].astype(float)\n",
    "df['weights'] = df['weights'] * 1000\n",
    "\n",
    "df.to_csv('lda.csv', index= False)"
   ]
  },
  {
   "cell_type": "markdown",
   "metadata": {},
   "source": [
    "### Direct N gram frequency"
   ]
  },
  {
   "cell_type": "code",
   "execution_count": 13,
   "metadata": {},
   "outputs": [],
   "source": [
    "bigram_list = []\n",
    "trigram_list = []\n",
    "for text in data_words_nostops:\n",
    "    unigrams = text\n",
    "    unigram_counts = {}\n",
    "    for unigram in unigrams:\n",
    "        unigram_counts[unigram] = unigram_counts.get(unigram, 0) +1\n",
    "\n",
    "    bigrams = [\" \".join(bigram) for bigram in zip(unigrams[:-1], unigrams[1:])]\n",
    "    bigram_list.append(bigrams)\n",
    "    \n",
    "    trigrams = [\" \".join(trigram) for trigram in zip(unigrams[:-2], unigrams[1:-1],unigrams[2:])]\n",
    "    trigram_list.append(trigrams)"
   ]
  },
  {
   "cell_type": "markdown",
   "metadata": {},
   "source": [
    "## Unigram"
   ]
  },
  {
   "cell_type": "code",
   "execution_count": 14,
   "metadata": {},
   "outputs": [],
   "source": [
    "from collections import Counter\n",
    "data_words_nostops = [item for sublist in data_words_nostops for item in sublist]\n",
    "counts = Counter(data_words_nostops)\n",
    "#counts.sort(reverse=True)\n",
    "uni_counts = counts.most_common()"
   ]
  },
  {
   "cell_type": "code",
   "execution_count": 15,
   "metadata": {},
   "outputs": [],
   "source": [
    "uni_df = pd.DataFrame(uni_counts)"
   ]
  },
  {
   "cell_type": "code",
   "execution_count": 16,
   "metadata": {},
   "outputs": [],
   "source": [
    "uni_df.columns = [\"Word\", \"Frequency\"]\n",
    "uni_df.to_csv('unigram.csv', index= False)"
   ]
  },
  {
   "cell_type": "markdown",
   "metadata": {},
   "source": [
    "## Bigram"
   ]
  },
  {
   "cell_type": "code",
   "execution_count": 17,
   "metadata": {},
   "outputs": [],
   "source": [
    "bigram_list = [item for sublist in bigram_list for item in sublist]\n",
    "from collections import Counter\n",
    "counts2 = Counter(bigram_list)\n",
    "#counts.sort(reverse=True)\n",
    "bi_counts  = counts2.most_common()\n",
    "bi_df = pd.DataFrame(bi_counts)\n",
    "bi_df.columns = ['Words', \"Frequency\"]\n",
    "bi_df.to_csv('bigram.csv', index= False)"
   ]
  },
  {
   "cell_type": "markdown",
   "metadata": {},
   "source": [
    "## Trigram"
   ]
  },
  {
   "cell_type": "code",
   "execution_count": 18,
   "metadata": {},
   "outputs": [],
   "source": [
    "trigram_list = [item for sublist in trigram_list for item in sublist]\n",
    "counts3 = Counter(trigram_list)\n",
    "#counts.sort(reverse=True)\n",
    "tri_counts = counts3.most_common()\n",
    "tri_df = pd.DataFrame(tri_counts)\n",
    "\n",
    "tri_df.columns = ['Words', \"Frequency\"]\n",
    "tri_df.to_csv('trigram.csv', index= False)"
   ]
  },
  {
   "cell_type": "markdown",
   "metadata": {},
   "source": [
    "## K means clustering"
   ]
  },
  {
   "cell_type": "code",
   "execution_count": 19,
   "metadata": {},
   "outputs": [],
   "source": [
    "data_lemmatized1 = [item for sublist in data_lemmatized for item in sublist]"
   ]
  },
  {
   "cell_type": "code",
   "execution_count": 20,
   "metadata": {},
   "outputs": [],
   "source": [
    "vectorizer = TfidfVectorizer(stop_words='english')\n",
    "X = vectorizer.fit_transform(data_lemmatized1)\n",
    "\n",
    "true_k = 3\n",
    "model = KMeans(n_clusters=true_k, init='k-means++', max_iter=100, n_init=1)\n",
    "model.fit(X)\n",
    "\n",
    "order_centroids = model.cluster_centers_.argsort()[:, ::-1]\n",
    "terms = vectorizer.get_feature_names()\n",
    "\n",
    "word_list = []\n",
    "for i in range(true_k):\n",
    "    for ind in order_centroids[i, :10]:\n",
    "        word_list.append([i+1, terms[ind]])\n"
   ]
  },
  {
   "cell_type": "code",
   "execution_count": 22,
   "metadata": {},
   "outputs": [],
   "source": [
    "cluster_cols = [\"Cluster No\", \"Word\"]\n",
    "df5 = pd.DataFrame(word_list)\n",
    "df5.columns = cluster_cols\n",
    "df5.to_csv('cluster.csv', index= False)"
   ]
  },
  {
   "cell_type": "code",
   "execution_count": null,
   "metadata": {},
   "outputs": [],
   "source": []
  },
  {
   "cell_type": "code",
   "execution_count": null,
   "metadata": {},
   "outputs": [],
   "source": []
  },
  {
   "cell_type": "code",
   "execution_count": null,
   "metadata": {},
   "outputs": [],
   "source": []
  }
 ],
 "metadata": {
  "colab": {
   "name": "topic_modeling_medium_v01_old.ipynb",
   "provenance": []
  },
  "kernelspec": {
   "display_name": "Python 3",
   "language": "python",
   "name": "python3"
  },
  "language_info": {
   "codemirror_mode": {
    "name": "ipython",
    "version": 3
   },
   "file_extension": ".py",
   "mimetype": "text/x-python",
   "name": "python",
   "nbconvert_exporter": "python",
   "pygments_lexer": "ipython3",
   "version": "3.7.6"
  }
 },
 "nbformat": 4,
 "nbformat_minor": 1
}
